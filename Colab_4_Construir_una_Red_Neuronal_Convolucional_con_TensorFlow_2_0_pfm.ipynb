{
  "nbformat": 4,
  "nbformat_minor": 0,
  "metadata": {
    "colab": {
      "name": "Colab 4 - Construir una Red Neuronal Convolucional con TensorFlow 2.0.ipynb",
      "provenance": [],
      "collapsed_sections": [],
      "include_colab_link": true
    },
    "kernelspec": {
      "name": "python3",
      "display_name": "Python 3"
    },
    "accelerator": "GPU"
  },
  "cells": [
    {
      "cell_type": "markdown",
      "metadata": {
        "id": "view-in-github",
        "colab_type": "text"
      },
      "source": [
        "<a href=\"https://colab.research.google.com/github/paulinofm/tensorflow2/blob/master/Colab_4_Construir_una_Red_Neuronal_Convolucional_con_TensorFlow_2_0_pfm.ipynb\" target=\"_parent\"><img src=\"https://colab.research.google.com/assets/colab-badge.svg\" alt=\"Open In Colab\"/></a>"
      ]
    },
    {
      "cell_type": "markdown",
      "metadata": {
        "id": "zJMS8p3wfPXO"
      },
      "source": [
        "## Paso 1: Instalar las dependencias y la configuración del notebook en GPU"
      ]
    },
    {
      "cell_type": "code",
      "metadata": {
        "id": "PXNUanZvcwwZ"
      },
      "source": [
        "!pip install tensorflow-gpu==2.0.0.alpha0"
      ],
      "execution_count": null,
      "outputs": []
    },
    {
      "cell_type": "markdown",
      "metadata": {
        "id": "lRHFdNYAfWKJ"
      },
      "source": [
        "## Paso 2: Importar las librerías necesarias"
      ]
    },
    {
      "cell_type": "code",
      "metadata": {
        "id": "tS5xFeQwe9Xu",
        "outputId": "828b18fb-bf89-40a0-cbcc-3a6dcf234784",
        "colab": {
          "base_uri": "https://localhost:8080/",
          "height": 35
        }
      },
      "source": [
        "import tensorflow as tf\n",
        "import matplotlib.pyplot as plt\n",
        "\n",
        "from tensorflow.keras.datasets import cifar10\n",
        "\n",
        "%matplotlib inline\n",
        "tf.__version__"
      ],
      "execution_count": 2,
      "outputs": [
        {
          "output_type": "execute_result",
          "data": {
            "application/vnd.google.colaboratory.intrinsic+json": {
              "type": "string"
            },
            "text/plain": [
              "'2.3.0'"
            ]
          },
          "metadata": {
            "tags": []
          },
          "execution_count": 2
        }
      ]
    },
    {
      "cell_type": "markdown",
      "metadata": {
        "id": "e8zYubaPfy-S"
      },
      "source": [
        "## Paso 3: Pre procesado de datos\n"
      ]
    },
    {
      "cell_type": "markdown",
      "metadata": {
        "id": "AOAGjiPogF0w"
      },
      "source": [
        "### Cargar el dataset  Cifar10"
      ]
    },
    {
      "cell_type": "code",
      "metadata": {
        "id": "v1N6LbS-e9a1"
      },
      "source": [
        "# Configurar el nombre de las clases del dataset\n",
        "class_names = ['avión', 'coche', 'pájaro', 'gato', 'ciervo', 'perro', 'rana', 'caballo', 'barco', 'camión']"
      ],
      "execution_count": 3,
      "outputs": []
    },
    {
      "cell_type": "code",
      "metadata": {
        "id": "f13-8-m_fqKP",
        "outputId": "de81c281-db81-4828-f649-650b56817c0d",
        "colab": {
          "base_uri": "https://localhost:8080/",
          "height": 54
        }
      },
      "source": [
        "# Cargar el dataset\n",
        "(X_train, y_train), (X_test, y_test) = cifar10.load_data()"
      ],
      "execution_count": 4,
      "outputs": [
        {
          "output_type": "stream",
          "text": [
            "Downloading data from https://www.cs.toronto.edu/~kriz/cifar-10-python.tar.gz\n",
            "170500096/170498071 [==============================] - 11s 0us/step\n"
          ],
          "name": "stdout"
        }
      ]
    },
    {
      "cell_type": "markdown",
      "metadata": {
        "id": "XqDIpsJWgUkz"
      },
      "source": [
        "### Normalización de las imágenes"
      ]
    },
    {
      "cell_type": "code",
      "metadata": {
        "id": "-QFncPlpgNmU"
      },
      "source": [
        "X_train = X_train / 255.0"
      ],
      "execution_count": 5,
      "outputs": []
    },
    {
      "cell_type": "code",
      "metadata": {
        "id": "L1rFHX67gc6G",
        "outputId": "6d69cf9a-c2e6-4905-c35e-ff5ee7b7021d",
        "colab": {
          "base_uri": "https://localhost:8080/",
          "height": 35
        }
      },
      "source": [
        "X_train.shape"
      ],
      "execution_count": 6,
      "outputs": [
        {
          "output_type": "execute_result",
          "data": {
            "text/plain": [
              "(50000, 32, 32, 3)"
            ]
          },
          "metadata": {
            "tags": []
          },
          "execution_count": 6
        }
      ]
    },
    {
      "cell_type": "code",
      "metadata": {
        "id": "Ve2WbRGWgc3I"
      },
      "source": [
        "X_test = X_test / 255.0"
      ],
      "execution_count": 7,
      "outputs": []
    },
    {
      "cell_type": "code",
      "metadata": {
        "id": "7jwvNZ82gh9d",
        "outputId": "c83ecd21-6a44-4689-de01-e8467736a07e",
        "colab": {
          "base_uri": "https://localhost:8080/",
          "height": 285
        }
      },
      "source": [
        "plt.imshow(X_test[1101])"
      ],
      "execution_count": 12,
      "outputs": [
        {
          "output_type": "execute_result",
          "data": {
            "text/plain": [
              "<matplotlib.image.AxesImage at 0x7fdf86dbe9e8>"
            ]
          },
          "metadata": {
            "tags": []
          },
          "execution_count": 12
        },
        {
          "output_type": "display_data",
          "data": {
            "image/png": "[encoded data removed]",
            "text/plain": [
              "<Figure size 432x288 with 1 Axes>"
            ]
          },
          "metadata": {
            "tags": [],
            "needs_background": "light"
          }
        }
      ]
    },
    {
      "cell_type": "code",
      "metadata": {
        "id": "KVa5IU6o-tJL",
        "outputId": "6224bdb7-dbd2-4289-e31d-99f8df228905",
        "colab": {
          "base_uri": "https://localhost:8080/",
          "height": 35
        }
      },
      "source": [
        "y_test[10]"
      ],
      "execution_count": 13,
      "outputs": [
        {
          "output_type": "execute_result",
          "data": {
            "text/plain": [
              "array([0], dtype=uint8)"
            ]
          },
          "metadata": {
            "tags": []
          },
          "execution_count": 13
        }
      ]
    },
    {
      "cell_type": "markdown",
      "metadata": {
        "id": "HXiuZulIguyf"
      },
      "source": [
        "## Paso 4: Construir una red neuronal convolucional"
      ]
    },
    {
      "cell_type": "markdown",
      "metadata": {
        "id": "ZFTetk8ngy0f"
      },
      "source": [
        "### Definir el modelo"
      ]
    },
    {
      "cell_type": "code",
      "metadata": {
        "id": "1TR0JGP5gq2i"
      },
      "source": [
        "model = tf.keras.models.Sequential(name='CNN_PFM')"
      ],
      "execution_count": 240,
      "outputs": []
    },
    {
      "cell_type": "markdown",
      "metadata": {
        "id": "j92d4FE0hTZV"
      },
      "source": [
        "### Añadir la primera capa de convolución\n",
        "\n",
        "Hyper parámetros de la capa de la RNC:\n",
        "- Filtros: 32\n",
        "- Tamaño del kernel: 3\n",
        "- padding: same\n",
        "- Función de Activación: relu\n",
        "- input_shape: (32, 32, 3)\n"
      ]
    },
    {
      "cell_type": "code",
      "metadata": {
        "id": "LSkL1iOvg_dE"
      },
      "source": [
        "model.add(tf.keras.layers.Conv2D(filters=32, kernel_size=3, padding=\"same\", activation=\"relu\", input_shape=[32, 32, 3],name='conv2D_1'))"
      ],
      "execution_count": 241,
      "outputs": []
    },
    {
      "cell_type": "markdown",
      "metadata": {
        "id": "gfRAaRmWiSlZ"
      },
      "source": [
        "### Añadir una segunda capa convolucional y la capa de max-pooling \n",
        "\n",
        "Hyper parámetros de la capa de la RNC:\n",
        "- Filtros: 32\n",
        "- Tamaño del kernel: 3\n",
        "- padding: same\n",
        "- Función de Activación: relu\n",
        "\n",
        "Hyper parámetros de la capa de MaxPool:\n",
        "- pool_size: 2\n",
        "- strides: 2\n",
        "- padding: valid"
      ]
    },
    {
      "cell_type": "code",
      "metadata": {
        "id": "sSl7Es5yidMp"
      },
      "source": [
        "model.add(tf.keras.layers.Conv2D(filters=32, kernel_size=3, padding=\"same\", activation=\"relu\",name='conv2D_2'))"
      ],
      "execution_count": 242,
      "outputs": []
    },
    {
      "cell_type": "code",
      "metadata": {
        "id": "wmP9h5wliAR6"
      },
      "source": [
        "model.add(tf.keras.layers.MaxPool2D(pool_size=2, strides=2, padding='valid',name='MaxPool2d_1'))"
      ],
      "execution_count": 243,
      "outputs": []
    },
    {
      "cell_type": "markdown",
      "metadata": {
        "id": "wd8ERDyvin-0"
      },
      "source": [
        "### Añadir la tercera capa convolucional\n",
        "\n",
        "Hyper parámetros de la capa de la RNC:\n",
        "- Filtros: 64\n",
        "- Tamaño del kernel: 3\n",
        "- padding: same\n",
        "- Función de Activación: relu\n"
      ]
    },
    {
      "cell_type": "code",
      "metadata": {
        "id": "i9HWy6aFixEw"
      },
      "source": [
        "model.add(tf.keras.layers.Conv2D(filters=64, kernel_size=3, padding=\"same\", activation=\"relu\",name='conv2D_3'))"
      ],
      "execution_count": 244,
      "outputs": []
    },
    {
      "cell_type": "markdown",
      "metadata": {
        "id": "O55kyOQGi44V"
      },
      "source": [
        "###  Añadir la cuarta capa convolucional y la capa de max-pooling\n",
        "\n",
        "Hyper parámetros de la capa de la RNC:\n",
        "- Filtros: 64\n",
        "- Tamaño del kernel: 3\n",
        "- padding: same\n",
        "- Función de Activación: relu\n",
        "\n",
        "Hyper parámetros de la capa de la MaxPool:\n",
        "- pool_size: 2\n",
        "- strides: 2\n",
        "- padding: valid\n"
      ]
    },
    {
      "cell_type": "code",
      "metadata": {
        "id": "5b7vAuhjjCF2"
      },
      "source": [
        "model.add(tf.keras.layers.Conv2D(filters=64, kernel_size=3, padding=\"same\", activation=\"relu\",name='conv2D_4'))"
      ],
      "execution_count": 245,
      "outputs": []
    },
    {
      "cell_type": "code",
      "metadata": {
        "id": "oc493G2BjFhg"
      },
      "source": [
        "model.add(tf.keras.layers.MaxPool2D(pool_size=2, strides=2, padding='valid',name='MaxPool2d_2'))"
      ],
      "execution_count": 246,
      "outputs": []
    },
    {
      "cell_type": "markdown",
      "metadata": {
        "id": "-hGnR3aXjKbZ"
      },
      "source": [
        "### Añadir la capa de flattening"
      ]
    },
    {
      "cell_type": "code",
      "metadata": {
        "id": "QLzu2cCVjI5Z"
      },
      "source": [
        "model.add(tf.keras.layers.Flatten(name='Flattening_1'))\n"
      ],
      "execution_count": 247,
      "outputs": []
    },
    {
      "cell_type": "markdown",
      "metadata": {
        "id": "GpeRUvVWjR1W"
      },
      "source": [
        "### Añadir la primera capa fully-connected\n",
        "\n",
        "Hyper parámetros de la capa totalmente conectada:\n",
        "- units/neurons: 128\n",
        "- activation: relu"
      ]
    },
    {
      "cell_type": "code",
      "metadata": {
        "id": "FWzYY8kKjhnZ"
      },
      "source": [
        "model.add(tf.keras.layers.Dense(units=4096, activation='relu',name='fully_connected_1'))"
      ],
      "execution_count": 248,
      "outputs": []
    },
    {
      "cell_type": "markdown",
      "metadata": {
        "id": "2s52i6hXAGrJ"
      },
      "source": [
        "Añado una segunda capa de 512 neuronas\n",
        "- units/neurons: 512\n",
        "- activation: relu"
      ]
    },
    {
      "cell_type": "code",
      "metadata": {
        "id": "OC7layvaDZ6-"
      },
      "source": [
        "model.add(tf.keras.layers.Dense(units=512, activation='relu',name='fully_connected_2'))"
      ],
      "execution_count": 249,
      "outputs": []
    },
    {
      "cell_type": "markdown",
      "metadata": {
        "id": "PNZ1-fofRZUx"
      },
      "source": [
        ""
      ]
    },
    {
      "cell_type": "markdown",
      "metadata": {
        "id": "-RQjPZ-BBRXa"
      },
      "source": [
        "Añado un dropout de 0.35"
      ]
    },
    {
      "cell_type": "code",
      "metadata": {
        "id": "BeWwbusEReOo"
      },
      "source": [
        "model.add(tf.keras.layers.Dropout(rate=0.35 ,name='Dropout_1'))"
      ],
      "execution_count": 250,
      "outputs": []
    },
    {
      "cell_type": "markdown",
      "metadata": {
        "id": "do0hiWFCVjmJ"
      },
      "source": [
        "Añadir tercera capa"
      ]
    },
    {
      "cell_type": "code",
      "metadata": {
        "id": "M-STrdHHVnQg"
      },
      "source": [
        "model.add(tf.keras.layers.Dense(units=128, activation='relu',name='fully_connected_3'))"
      ],
      "execution_count": 251,
      "outputs": []
    },
    {
      "cell_type": "markdown",
      "metadata": {
        "id": "UaakKTqRjrkF"
      },
      "source": [
        "### Añadir la capa de salida\n",
        "\n",
        "Hyper parámetros de la capa totalmente conectada:\n",
        "\n",
        " - units/neurons: 10 (number of classes)\n",
        " - activation: softmax\n"
      ]
    },
    {
      "cell_type": "code",
      "metadata": {
        "id": "4t-JmzRvjnBj"
      },
      "source": [
        "model.add(tf.keras.layers.Dense(units=10, activation='softmax',name='EXIT_LAYER'))"
      ],
      "execution_count": 252,
      "outputs": []
    },
    {
      "cell_type": "code",
      "metadata": {
        "id": "aRr3bCU-ti06",
        "outputId": "8efb38f0-aff8-4845-adc4-6de32330efb1",
        "colab": {
          "base_uri": "https://localhost:8080/",
          "height": 599
        }
      },
      "source": [
        "model.summary()"
      ],
      "execution_count": 253,
      "outputs": [
        {
          "output_type": "stream",
          "text": [
            "Model: \"CNN_PFM\"\n",
            "_________________________________________________________________\n",
            "Layer (type)                 Output Shape              Param #   \n",
            "=================================================================\n",
            "conv2D_1 (Conv2D)            (None, 32, 32, 32)        896       \n",
            "_________________________________________________________________\n",
            "conv2D_2 (Conv2D)            (None, 32, 32, 32)        9248      \n",
            "_________________________________________________________________\n",
            "MaxPool2d_1 (MaxPooling2D)   (None, 16, 16, 32)        0         \n",
            "_________________________________________________________________\n",
            "conv2D_3 (Conv2D)            (None, 16, 16, 64)        18496     \n",
            "_________________________________________________________________\n",
            "conv2D_4 (Conv2D)            (None, 16, 16, 64)        36928     \n",
            "_________________________________________________________________\n",
            "MaxPool2d_2 (MaxPooling2D)   (None, 8, 8, 64)          0         \n",
            "_________________________________________________________________\n",
            "Flattening_1 (Flatten)       (None, 4096)              0         \n",
            "_________________________________________________________________\n",
            "fully_connected_1 (Dense)    (None, 4096)              16781312  \n",
            "_________________________________________________________________\n",
            "fully_connected_2 (Dense)    (None, 512)               2097664   \n",
            "_________________________________________________________________\n",
            "Dropout_1 (Dropout)          (None, 512)               0         \n",
            "_________________________________________________________________\n",
            "fully_connected_3 (Dense)    (None, 128)               65664     \n",
            "_________________________________________________________________\n",
            "EXIT_LAYER (Dense)           (None, 10)                1290      \n",
            "=================================================================\n",
            "Total params: 19,011,498\n",
            "Trainable params: 19,011,498\n",
            "Non-trainable params: 0\n",
            "_________________________________________________________________\n"
          ],
          "name": "stdout"
        }
      ]
    },
    {
      "cell_type": "markdown",
      "metadata": {
        "id": "DYgvbNihtprw"
      },
      "source": [
        "### Compilar el modelo\n",
        "\n",
        "#### sparse_categorical_accuracy\n",
        "sparse_categorical_accuracy comprueba si el valor verdadero maximal coincide con el índice maximal del valor de la predicción.\n",
        "\n",
        "https://stackoverflow.com/questions/44477489/keras-difference-between-categorical-accuracy-and-sparse-categorical-accuracy "
      ]
    },
    {
      "cell_type": "code",
      "metadata": {
        "id": "oYHELxz4tsa-"
      },
      "source": [
        "model.compile(loss=\"sparse_categorical_crossentropy\", optimizer='Adam', metrics=[\"sparse_categorical_accuracy\"])"
      ],
      "execution_count": 254,
      "outputs": []
    },
    {
      "cell_type": "markdown",
      "metadata": {
        "id": "Gox3SmwUtwgX"
      },
      "source": [
        "### Entrenar el modelo"
      ]
    },
    {
      "cell_type": "code",
      "metadata": {
        "id": "D3MHvRYKe9fN",
        "outputId": "75271476-cb05-41a2-9abe-1d34a93d9ad7",
        "colab": {
          "base_uri": "https://localhost:8080/",
          "height": 581
        }
      },
      "source": [
        "model.fit(X_train, y_train, epochs=15,batch_size=64)"
      ],
      "execution_count": 255,
      "outputs": [
        {
          "output_type": "stream",
          "text": [
            "Epoch 1/15\n",
            "782/782 [==============================] - 5s 7ms/step - loss: 1.4816 - sparse_categorical_accuracy: 0.4560\n",
            "Epoch 2/15\n",
            "782/782 [==============================] - 5s 7ms/step - loss: 0.9709 - sparse_categorical_accuracy: 0.6615\n",
            "Epoch 3/15\n",
            "782/782 [==============================] - 5s 7ms/step - loss: 0.7210 - sparse_categorical_accuracy: 0.7497\n",
            "Epoch 4/15\n",
            "782/782 [==============================] - 5s 7ms/step - loss: 0.5154 - sparse_categorical_accuracy: 0.8213\n",
            "Epoch 5/15\n",
            "782/782 [==============================] - 5s 7ms/step - loss: 0.3355 - sparse_categorical_accuracy: 0.8844\n",
            "Epoch 6/15\n",
            "782/782 [==============================] - 5s 7ms/step - loss: 0.1992 - sparse_categorical_accuracy: 0.9324\n",
            "Epoch 7/15\n",
            "782/782 [==============================] - 5s 7ms/step - loss: 0.1372 - sparse_categorical_accuracy: 0.9552\n",
            "Epoch 8/15\n",
            "782/782 [==============================] - 5s 7ms/step - loss: 0.1097 - sparse_categorical_accuracy: 0.9637\n",
            "Epoch 9/15\n",
            "782/782 [==============================] - 5s 7ms/step - loss: 0.0816 - sparse_categorical_accuracy: 0.9737\n",
            "Epoch 10/15\n",
            "782/782 [==============================] - 5s 7ms/step - loss: 0.0734 - sparse_categorical_accuracy: 0.9770\n",
            "Epoch 11/15\n",
            "782/782 [==============================] - 5s 7ms/step - loss: 0.0693 - sparse_categorical_accuracy: 0.9795\n",
            "Epoch 12/15\n",
            "782/782 [==============================] - 5s 7ms/step - loss: 0.0692 - sparse_categorical_accuracy: 0.9786\n",
            "Epoch 13/15\n",
            "782/782 [==============================] - 6s 7ms/step - loss: 0.0608 - sparse_categorical_accuracy: 0.9811\n",
            "Epoch 14/15\n",
            "782/782 [==============================] - 6s 7ms/step - loss: 0.0556 - sparse_categorical_accuracy: 0.9828\n",
            "Epoch 15/15\n",
            "782/782 [==============================] - 5s 7ms/step - loss: 0.0553 - sparse_categorical_accuracy: 0.9829\n"
          ],
          "name": "stdout"
        },
        {
          "output_type": "execute_result",
          "data": {
            "text/plain": [
              "<tensorflow.python.keras.callbacks.History at 0x7fdf1439ac50>"
            ]
          },
          "metadata": {
            "tags": []
          },
          "execution_count": 255
        }
      ]
    },
    {
      "cell_type": "markdown",
      "metadata": {
        "id": "D8C7Pm0NuOrJ"
      },
      "source": [
        "### Evaluar el modelo"
      ]
    },
    {
      "cell_type": "code",
      "metadata": {
        "id": "Z9r8TtNet3D0",
        "outputId": "f78e03b6-ab2c-46df-e9ca-3d2a43f9d58d",
        "colab": {
          "base_uri": "https://localhost:8080/",
          "height": 35
        }
      },
      "source": [
        "test_loss, test_accuracy = model.evaluate(X_test, y_test)"
      ],
      "execution_count": 256,
      "outputs": [
        {
          "output_type": "stream",
          "text": [
            "313/313 [==============================] - 1s 2ms/step - loss: 1.5065 - sparse_categorical_accuracy: 0.7238\n"
          ],
          "name": "stdout"
        }
      ]
    },
    {
      "cell_type": "code",
      "metadata": {
        "id": "0rpAPpfzuV0p",
        "outputId": "03536b0e-a799-46f7-9f9f-bc660b8e864d",
        "colab": {
          "base_uri": "https://localhost:8080/",
          "height": 35
        }
      },
      "source": [
        "print(\"Test accuracy: {}\".format(test_accuracy))"
      ],
      "execution_count": 257,
      "outputs": [
        {
          "output_type": "stream",
          "text": [
            "Test accuracy: 0.723800003528595\n"
          ],
          "name": "stdout"
        }
      ]
    }
  ]
}